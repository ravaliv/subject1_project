{
 "cells": [
  {
   "cell_type": "code",
   "execution_count": 10,
   "metadata": {},
   "outputs": [],
   "source": [
    "from textblob import TextBlob\n",
    "import sys, tweepy, csv, re\n",
    "import matplotlib.pyplot as plt"
   ]
  },
  {
   "cell_type": "code",
   "execution_count": 17,
   "metadata": {},
   "outputs": [
    {
     "name": "stdout",
     "output_type": "stream",
     "text": [
      "Enter keyword to search about: mahesh\n",
      "Enter how many tweets to analyze: 100\n",
      "Currently people are reacting on mahesh by analyzing 100 Tweets.\n",
      "Positive\n"
     ]
    },
    {
     "data": {
      "image/png": "[encoded data removed]",
      "text/plain": [
       "<Figure size 432x288 with 1 Axes>"
      ]
     },
     "metadata": {},
     "output_type": "display_data"
    }
   ],
   "source": [
    "def percentage(part, whole):\n",
    "    return 100*float(part)/float(whole)\n",
    "\n",
    "consumerkey = \"Oa4J31KG75gItPglSmcWjfG5Y\"\n",
    "consumerSecret = \"3fyaiV6RlbP1lyIMZ6fQ05QjyiGpDuONaVEOzoPmG2crgCWf3T\"\n",
    "accessToken = \"1113394426879967232-rYYl6YnHy4FZpVgcHcPFKaEwcZ4nbV\"\n",
    "accessTokenSecret = \"mylhmd1ISwj0Id10xBbapv7hSsUcsCW53uf2hfb0ap0zH\"\n",
    "\n",
    "auth = tweepy.OAuthHandler(consumerkey, consumerSecret)\n",
    "auth.set_access_token(accessToken, accessTokenSecret)\n",
    "api = tweepy.API(auth)\n",
    "\n",
    "searchTerm=input(\"Enter keyword to search about: \")\n",
    "noofsearchTerms=int(input(\"Enter how many tweets to analyze: \"))\n",
    "\n",
    "tweets = tweepy.Cursor(api.search, q=searchTerm, lang=\"en\").items(noofsearchTerms)\n",
    "\n",
    "positive = 0\n",
    "negative = 0\n",
    "neutral = 0\n",
    "polarity = 0\n",
    "\n",
    "for tweet in tweets:\n",
    "#     print(tweet.text)\n",
    "    analysis = TextBlob(tweet.text)\n",
    "    polarity += analysis.sentiment.polarity\n",
    "\n",
    "    if(analysis.sentiment.polarity ==0):\n",
    "        neutral+=1\n",
    "    elif (analysis.sentiment.polarity > -0.6 and analysis.sentiment.polarity <= -0.3):\n",
    "                negative += 1\n",
    "    elif (analysis.sentiment.polarity > 0.3 and analysis.sentiment.polarity <= 0.6):\n",
    "                positive += 1\n",
    "\n",
    "positive = percentage(positive, noofsearchTerms)\n",
    "negative = percentage(negative, noofsearchTerms)\n",
    "neutral = percentage(neutral, noofsearchTerms)\n",
    "polarity = polarity / noofsearchTerms\n",
    "\n",
    "positive=format(positive, \".2f\")\n",
    "negative=format(negative, \".2f\")\n",
    "neutral=format(neutral, \".2f\")\n",
    "\n",
    "print(\"Currently people are reacting on \"+searchTerm+\" by analyzing \"+str(noofsearchTerms)+\" Tweets.\")\n",
    "\n",
    "if(polarity==0.00):\n",
    "    print(\"Neutral\")\n",
    "elif (polarity < 0.00):\n",
    "    print(\"Negative\")\n",
    "elif (polarity > 0.00 ):\n",
    "    print(\"Positive\")\n",
    "        \n",
    "labels = ['Positive ['+str(positive)+'%]', 'Neutral ['+str(neutral)+'%]', 'Negative [' +str(negative)+'%]']\n",
    "sizes = [positive, neutral, negative]\n",
    "colors = ['yellowgreen', 'red', 'blue']\n",
    "patches, texts = plt.pie(sizes, colors=colors, startangle=90)\n",
    "plt.legend(patches, labels, loc=\"best\")\n",
    "plt.title(\"Tweeter analysis on \"+searchTerm)\n",
    "plt.axis(\"equal\")\n",
    "plt.tight_layout()\n",
    "plt.show()"
   ]
  },
  {
   "cell_type": "code",
   "execution_count": null,
   "metadata": {},
   "outputs": [],
   "source": []
  }
 ],
 "metadata": {
  "kernelspec": {
   "display_name": "Python 3",
   "language": "python",
   "name": "python3"
  },
  "language_info": {
   "codemirror_mode": {
    "name": "ipython",
    "version": 3
   },
   "file_extension": ".py",
   "mimetype": "text/x-python",
   "name": "python",
   "nbconvert_exporter": "python",
   "pygments_lexer": "ipython3",
   "version": "3.6.4"
  }
 },
 "nbformat": 4,
 "nbformat_minor": 2
}
